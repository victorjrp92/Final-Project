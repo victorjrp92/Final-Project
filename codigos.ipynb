{
 "cells": [
  {
   "cell_type": "code",
   "execution_count": null,
   "metadata": {},
   "outputs": [],
   "source": []
  },
  {
   "cell_type": "code",
   "execution_count": null,
   "metadata": {},
   "outputs": [],
   "source": [
    "def get_types(df):\n",
    "    def helper(lat, lng):\n",
    "        url = \"https://maps.googleapis.com/maps/api/place/nearbysearch/json\"\n",
    "        params = {\n",
    "            \"location\": f\"{lat},{lng}\",\n",
    "            \"radius\": 150,\n",
    "            \"key\": api_key,\n",
    "            \"type\": \"\",\n",
    "            \"language\": \"es\"\n",
    "        }\n",
    "        response = requests.get(url, params=params)\n",
    "        data = json.loads(response.text)\n",
    "        types = []\n",
    "        for result in data[\"results\"]:\n",
    "            for t in result.get(\"types\", []):\n",
    "                if t not in types and t != \"locality\" and t !=\"establishment\" and t !=\"point_of_interest\" and t !=\"political\":\n",
    "                    types.append(t)\n",
    "                if len(types) == 3:\n",
    "                    break\n",
    "            if len(types) == 3:\n",
    "                break\n",
    "        return types\n",
    "    \n",
    "    df[\"Types\"] = df.apply(lambda row: helper(row[\"Latitude\"], row[\"Longitude\"]), axis=1)\n",
    "    return df"
   ]
  }
 ],
 "metadata": {
  "language_info": {
   "name": "python"
  },
  "orig_nbformat": 4
 },
 "nbformat": 4,
 "nbformat_minor": 2
}
